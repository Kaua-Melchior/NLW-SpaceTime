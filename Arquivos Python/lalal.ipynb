{
 "cells": [
  {
   "cell_type": "code",
   "execution_count": 3,
   "metadata": {},
   "outputs": [
    {
     "name": "stdout",
     "output_type": "stream",
     "text": [
      "Botão 'Inscrever-se' não encontrado na tela.\n"
     ]
    },
    {
     "ename": "NotImplementedError",
     "evalue": "The confidence keyword argument is only available if OpenCV is installed.",
     "output_type": "error",
     "traceback": [
      "\u001b[1;31m---------------------------------------------------------------------------\u001b[0m",
      "\u001b[1;31mNotImplementedError\u001b[0m                       Traceback (most recent call last)",
      "\u001b[1;32mk:\\Arquivos\\DEV\\Arquivos Python\\lalal.ipynb Célula 1\u001b[0m in \u001b[0;36m<cell line: 36>\u001b[1;34m()\u001b[0m\n\u001b[0;32m     <a href='vscode-notebook-cell:/k%3A/Arquivos/DEV/Arquivos%20Python/lalal.ipynb#W0sZmlsZQ%3D%3D?line=51'>52</a>\u001b[0m pyautogui\u001b[39m.\u001b[39msleep(\u001b[39m2\u001b[39m)\n\u001b[0;32m     <a href='vscode-notebook-cell:/k%3A/Arquivos/DEV/Arquivos%20Python/lalal.ipynb#W0sZmlsZQ%3D%3D?line=53'>54</a>\u001b[0m \u001b[39m# Localizar a posição do botão no site\u001b[39;00m\n\u001b[1;32m---> <a href='vscode-notebook-cell:/k%3A/Arquivos/DEV/Arquivos%20Python/lalal.ipynb#W0sZmlsZQ%3D%3D?line=54'>55</a>\u001b[0m posicao_botao_site \u001b[39m=\u001b[39m pyautogui\u001b[39m.\u001b[39;49mlocateOnScreen(imagem_botao, confidence\u001b[39m=\u001b[39;49m\u001b[39m0.8\u001b[39;49m)\n\u001b[0;32m     <a href='vscode-notebook-cell:/k%3A/Arquivos/DEV/Arquivos%20Python/lalal.ipynb#W0sZmlsZQ%3D%3D?line=56'>57</a>\u001b[0m \u001b[39m# Verificar se o botão foi encontrado no site\u001b[39;00m\n\u001b[0;32m     <a href='vscode-notebook-cell:/k%3A/Arquivos/DEV/Arquivos%20Python/lalal.ipynb#W0sZmlsZQ%3D%3D?line=57'>58</a>\u001b[0m \u001b[39mif\u001b[39;00m posicao_botao_site \u001b[39mis\u001b[39;00m \u001b[39mnot\u001b[39;00m \u001b[39mNone\u001b[39;00m:\n\u001b[0;32m     <a href='vscode-notebook-cell:/k%3A/Arquivos/DEV/Arquivos%20Python/lalal.ipynb#W0sZmlsZQ%3D%3D?line=58'>59</a>\u001b[0m     \u001b[39m# Obter as coordenadas do centro do botão\u001b[39;00m\n",
      "File \u001b[1;32mk:\\Programas\\software\\Jupter\\lib\\site-packages\\pyautogui\\__init__.py:175\u001b[0m, in \u001b[0;36mraisePyAutoGUIImageNotFoundException.<locals>.wrapper\u001b[1;34m(*args, **kwargs)\u001b[0m\n\u001b[0;32m    172\u001b[0m \u001b[39m@functools\u001b[39m\u001b[39m.\u001b[39mwraps(wrappedFunction)\n\u001b[0;32m    173\u001b[0m \u001b[39mdef\u001b[39;00m \u001b[39mwrapper\u001b[39m(\u001b[39m*\u001b[39margs, \u001b[39m*\u001b[39m\u001b[39m*\u001b[39mkwargs):\n\u001b[0;32m    174\u001b[0m     \u001b[39mtry\u001b[39;00m:\n\u001b[1;32m--> 175\u001b[0m         \u001b[39mreturn\u001b[39;00m wrappedFunction(\u001b[39m*\u001b[39margs, \u001b[39m*\u001b[39m\u001b[39m*\u001b[39mkwargs)\n\u001b[0;32m    176\u001b[0m     \u001b[39mexcept\u001b[39;00m pyscreeze\u001b[39m.\u001b[39mImageNotFoundException:\n\u001b[0;32m    177\u001b[0m         \u001b[39mraise\u001b[39;00m ImageNotFoundException\n",
      "File \u001b[1;32mk:\\Programas\\software\\Jupter\\lib\\site-packages\\pyautogui\\__init__.py:213\u001b[0m, in \u001b[0;36mlocateOnScreen\u001b[1;34m(*args, **kwargs)\u001b[0m\n\u001b[0;32m    211\u001b[0m \u001b[39m@raisePyAutoGUIImageNotFoundException\u001b[39m\n\u001b[0;32m    212\u001b[0m \u001b[39mdef\u001b[39;00m \u001b[39mlocateOnScreen\u001b[39m(\u001b[39m*\u001b[39margs, \u001b[39m*\u001b[39m\u001b[39m*\u001b[39mkwargs):\n\u001b[1;32m--> 213\u001b[0m     \u001b[39mreturn\u001b[39;00m pyscreeze\u001b[39m.\u001b[39mlocateOnScreen(\u001b[39m*\u001b[39margs, \u001b[39m*\u001b[39m\u001b[39m*\u001b[39mkwargs)\n",
      "File \u001b[1;32mk:\\Programas\\software\\Jupter\\lib\\site-packages\\pyscreeze\\__init__.py:373\u001b[0m, in \u001b[0;36mlocateOnScreen\u001b[1;34m(image, minSearchTime, **kwargs)\u001b[0m\n\u001b[0;32m    371\u001b[0m \u001b[39mtry\u001b[39;00m:\n\u001b[0;32m    372\u001b[0m     screenshotIm \u001b[39m=\u001b[39m screenshot(region\u001b[39m=\u001b[39m\u001b[39mNone\u001b[39;00m) \u001b[39m# the locateAll() function must handle cropping to return accurate coordinates, so don't pass a region here.\u001b[39;00m\n\u001b[1;32m--> 373\u001b[0m     retVal \u001b[39m=\u001b[39m locate(image, screenshotIm, \u001b[39m*\u001b[39m\u001b[39m*\u001b[39mkwargs)\n\u001b[0;32m    374\u001b[0m     \u001b[39mtry\u001b[39;00m:\n\u001b[0;32m    375\u001b[0m         screenshotIm\u001b[39m.\u001b[39mfp\u001b[39m.\u001b[39mclose()\n",
      "File \u001b[1;32mk:\\Programas\\software\\Jupter\\lib\\site-packages\\pyscreeze\\__init__.py:353\u001b[0m, in \u001b[0;36mlocate\u001b[1;34m(needleImage, haystackImage, **kwargs)\u001b[0m\n\u001b[0;32m    351\u001b[0m \u001b[39m# Note: The gymnastics in this function is because we want to make sure to exhaust the iterator so that the needle and haystack files are closed in locateAll.\u001b[39;00m\n\u001b[0;32m    352\u001b[0m kwargs[\u001b[39m'\u001b[39m\u001b[39mlimit\u001b[39m\u001b[39m'\u001b[39m] \u001b[39m=\u001b[39m \u001b[39m1\u001b[39m\n\u001b[1;32m--> 353\u001b[0m points \u001b[39m=\u001b[39m \u001b[39mtuple\u001b[39;49m(locateAll(needleImage, haystackImage, \u001b[39m*\u001b[39;49m\u001b[39m*\u001b[39;49mkwargs))\n\u001b[0;32m    354\u001b[0m \u001b[39mif\u001b[39;00m \u001b[39mlen\u001b[39m(points) \u001b[39m>\u001b[39m \u001b[39m0\u001b[39m:\n\u001b[0;32m    355\u001b[0m     \u001b[39mreturn\u001b[39;00m points[\u001b[39m0\u001b[39m]\n",
      "File \u001b[1;32mk:\\Programas\\software\\Jupter\\lib\\site-packages\\pyscreeze\\__init__.py:253\u001b[0m, in \u001b[0;36m_locateAll_python\u001b[1;34m(needleImage, haystackImage, grayscale, limit, region, step, confidence)\u001b[0m\n\u001b[0;32m    249\u001b[0m \u001b[39m\"\"\"\u001b[39;00m\n\u001b[0;32m    250\u001b[0m \u001b[39mTODO\u001b[39;00m\n\u001b[0;32m    251\u001b[0m \u001b[39m\"\"\"\u001b[39;00m\n\u001b[0;32m    252\u001b[0m \u001b[39mif\u001b[39;00m confidence \u001b[39mis\u001b[39;00m \u001b[39mnot\u001b[39;00m \u001b[39mNone\u001b[39;00m:\n\u001b[1;32m--> 253\u001b[0m     \u001b[39mraise\u001b[39;00m \u001b[39mNotImplementedError\u001b[39;00m(\u001b[39m'\u001b[39m\u001b[39mThe confidence keyword argument is only available if OpenCV is installed.\u001b[39m\u001b[39m'\u001b[39m)\n\u001b[0;32m    255\u001b[0m \u001b[39m# setup all the arguments\u001b[39;00m\n\u001b[0;32m    256\u001b[0m \u001b[39mif\u001b[39;00m grayscale \u001b[39mis\u001b[39;00m \u001b[39mNone\u001b[39;00m:\n",
      "\u001b[1;31mNotImplementedError\u001b[0m: The confidence keyword argument is only available if OpenCV is installed."
     ]
    }
   ],
   "source": [
    "import pyautogui\n",
    "\n",
    "# Caminho do arquivo \"Gay_mods-1.txt\"\n",
    "caminho_arquivo = \"Gay_mods-1.txt\"\n",
    "\n",
    "# Aguardar alguns segundos para posicionar o cursor no botão \"Inscrever-se\"\n",
    "pyautogui.sleep(3)\n",
    "\n",
    "# Localizar a posição do botão \"Inscrever-se\" na tela\n",
    "imagem_botao = 'butao.PNG'\n",
    "posicao_botao = pyautogui.locateOnScreen(imagem_botao)\n",
    "\n",
    "# Verificar se o botão foi encontrado\n",
    "if posicao_botao is not None:\n",
    "    # Obter as coordenadas do centro do botão\n",
    "    x, y, largura, altura = posicao_botao\n",
    "    centro_x = x + largura // 2\n",
    "    centro_y = y + altura // 2\n",
    "\n",
    "    # Clicar no botão \"Inscrever-se\"\n",
    "    pyautogui.click(centro_x, centro_y)\n",
    "else:\n",
    "    print(\"Botão 'Inscrever-se' não encontrado na tela.\")\n",
    "\n",
    "# Pressionar a combinação de teclas Win+1 para abrir o Google Chrome\n",
    "pyautogui.hotkey('win', '1')\n",
    "\n",
    "# Aguardar um breve momento para o Chrome abrir\n",
    "pyautogui.sleep(2)\n",
    "\n",
    "# Ler as linhas do arquivo\n",
    "with open(caminho_arquivo, 'r') as arquivo:\n",
    "    linhas = arquivo.readlines()\n",
    "\n",
    "# Loop para digitar cada endereço em uma nova aba\n",
    "for linha in linhas:\n",
    "    # Limpar a linha (remover espaços em branco extras)\n",
    "    endereco = linha.strip()\n",
    "\n",
    "    # Abrir uma nova aba\n",
    "    pyautogui.hotkey('ctrl', 't')\n",
    "    pyautogui.sleep(0.5)\n",
    "\n",
    "    # Digitar o endereço na barra de endereços\n",
    "    pyautogui.write(endereco)\n",
    "    pyautogui.press('enter')\n",
    "\n",
    "    # Aguardar um breve momento antes de abrir a próxima aba\n",
    "    pyautogui.sleep(0.5)\n",
    "\n",
    "    # Aguardar o carregamento do site antes de clicar no botão\n",
    "    pyautogui.sleep(2)\n",
    "\n",
    "    # Localizar a posição do botão no site\n",
    "    posicao_botao_site = pyautogui.locateOnScreen(imagem_botao, confidence=0.8)\n",
    "\n",
    "    # Verificar se o botão foi encontrado no site\n",
    "    if posicao_botao_site is not None:\n",
    "        # Obter as coordenadas do centro do botão\n",
    "        x, y, largura, altura = posicao_botao_site\n",
    "        centro_x = x + largura // 2\n",
    "        centro_y = y + altura // 2\n",
    "\n",
    "        # Clicar no botão no site\n",
    "        pyautogui.click(centro_x, centro_y)\n",
    "        print(\"Botão clicado no site:\", endereco)\n",
    "    else:\n",
    "        print(\"Botão não encontrado no site:\", endereco)\n",
    "\n",
    "    pyautogui.sleep(3.5)\n",
    "    # Fechar a aba atual\n",
    "    pyautogui.hotkey('ctrl', 'w')\n",
    "\n",
    "    # Aguardar um breve momento antes de abrir a próxima aba\n",
    "    pyautogui.sleep(0.5)\n"
   ]
  }
 ],
 "metadata": {
  "kernelspec": {
   "display_name": "base",
   "language": "python",
   "name": "python3"
  },
  "language_info": {
   "codemirror_mode": {
    "name": "ipython",
    "version": 3
   },
   "file_extension": ".py",
   "mimetype": "text/x-python",
   "name": "python",
   "nbconvert_exporter": "python",
   "pygments_lexer": "ipython3",
   "version": "3.9.12"
  },
  "orig_nbformat": 4
 },
 "nbformat": 4,
 "nbformat_minor": 2
}
